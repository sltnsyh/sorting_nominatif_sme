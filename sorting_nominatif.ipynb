{
 "cells": [
  {
   "cell_type": "code",
   "execution_count": 2,
   "metadata": {},
   "outputs": [
    {
     "name": "stdout",
     "output_type": "stream",
     "text": [
      "Data has been pivoted and saved with adjusted headers to D:\\Test Script\\output_pivoted.xlsx\n"
     ]
    }
   ],
   "source": [
    "import pandas as pd\n",
    "from openpyxl import load_workbook\n",
    "\n",
    "# File paths\n",
    "input_file = r\"D:\\Test Script\\nominatif produk holding okt 2024 V2.xlsx\"  # Your input file\n",
    "output_file = r\"D:\\Test Script\\output_pivoted.xlsx\"  # Output file path\n",
    "\n",
    "# Load the Excel file into a pandas DataFrame\n",
    "df = pd.read_excel(input_file)\n",
    "\n",
    "# Ensure `KODE CABANG` is treated as a string (for consistent grouping)\n",
    "df[\"KODE CABANG\"] = df[\"KODE CABANG\"].astype(str)\n",
    "\n",
    "# Create a dictionary to hold data for each unique `KODE CABANG`\n",
    "grouped_data = {kode_cabang: group for kode_cabang, group in df.groupby(\"KODE CABANG\")}\n",
    "\n",
    "# Write each group's data to a new sheet in the output Excel file\n",
    "with pd.ExcelWriter(output_file, engine=\"openpyxl\") as writer:\n",
    "    for kode_cabang, group_data in grouped_data.items():\n",
    "        # Use the `KODE CABANG` as the sheet name\n",
    "        sheet_name = f\"KODE_{kode_cabang[:30]}\"  # Limit sheet name to 30 characters\n",
    "        group_data.to_excel(writer, sheet_name=sheet_name, index=False)\n",
    "\n",
    "# Auto-adjust column widths\n",
    "wb = load_workbook(output_file)\n",
    "for sheet_name in wb.sheetnames:\n",
    "    sheet = wb[sheet_name]\n",
    "    for column in sheet.columns:\n",
    "        max_length = 0\n",
    "        col_letter = column[0].column_letter  # Get the column letter\n",
    "        for cell in column:\n",
    "            try:\n",
    "                if cell.value:  # Calculate the maximum width of each column\n",
    "                    max_length = max(max_length, len(str(cell.value)))\n",
    "            except Exception:\n",
    "                pass\n",
    "        adjusted_width = max_length + 2  # Add some padding\n",
    "        sheet.column_dimensions[col_letter].width = adjusted_width\n",
    "\n",
    "# Save the workbook with adjusted column widths\n",
    "wb.save(output_file)\n",
    "\n",
    "print(f\"Data has been pivoted and saved with adjusted headers to {output_file}\")\n"
   ]
  }
 ],
 "metadata": {
  "kernelspec": {
   "display_name": ".venv",
   "language": "python",
   "name": "python3"
  },
  "language_info": {
   "codemirror_mode": {
    "name": "ipython",
    "version": 3
   },
   "file_extension": ".py",
   "mimetype": "text/x-python",
   "name": "python",
   "nbconvert_exporter": "python",
   "pygments_lexer": "ipython3",
   "version": "3.12.3"
  }
 },
 "nbformat": 4,
 "nbformat_minor": 2
}
